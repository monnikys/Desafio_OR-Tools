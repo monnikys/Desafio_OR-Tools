{
 "cells": [
  {
   "cell_type": "markdown",
   "metadata": {},
   "source": [
    "Utilize a ferramenta OR-Tools para modelar um problema, criar as restrições e encontrar a solução do seguinte exemplo:\n",
    "\n",
    "Em uma competição de quebra-cabeças, cinco participantes - Ana, Bruno, Carla, Diego e Erika - estão competindo para resolver diferentes quebra-cabeças: cubo mágico, quebra-cabeça de montar, sudoku, quebra-cabeça de palavras e quebra-cabeça numérico. Cada participante resolveu um quebra-cabeça diferente, e cada quebra-cabeça foi resolvido por apenas uma pessoa. As seguintes pistas são fornecidas:\n",
    "\n",
    "Ana não resolveu o cubo mágico nem o quebra-cabeça de palavras.\n",
    "Bruno resolveu o quebra-cabeça numérico.\n",
    "Carla não resolveu o sudoku nem o quebra-cabeça de montar.\n",
    "Diego não resolveu o quebra-cabeça de palavras.\n",
    "Erika resolveu o cubo mágico.\n",
    "Determine qual participante resolveu qual quebra-cabeça a partir das pistas. Como dica adicional, enumere as opções de quebra-cabeças de 1 a 5, da seguinte maneira:\n",
    "\n",
    "Cubo mágico\n",
    "Quebra-cabeça de montar\n",
    "Sudoku\n",
    "Quebra-cabeça de palavras\n",
    "Quebra-cabeça numérico\n",
    "A partir disso, crie variáveis numéricas para cada um dos cinco participantes, definindo a restrição numérica de 1 a 5 de acordo com o valor do quebra-cabeças resolvido. Depois utilize restrições de acordo com as pistas fornecidas."
   ]
  },
  {
   "cell_type": "code",
   "execution_count": 1,
   "metadata": {},
   "outputs": [],
   "source": [
    "from ortools.sat.python import cp_model"
   ]
  },
  {
   "cell_type": "code",
   "execution_count": 2,
   "metadata": {},
   "outputs": [],
   "source": [
    "# Criação do modelo\n",
    "model = cp_model.CpModel()"
   ]
  },
  {
   "cell_type": "code",
   "execution_count": 3,
   "metadata": {},
   "outputs": [],
   "source": [
    "# Enumeração dos quebra-cabeças\n",
    "CUBO_MAGICO = 1\n",
    "QUEBRA_CABECA_MONTAR = 2\n",
    "SUDOKU = 3\n",
    "QUEBRA_CABECA_PALAVRAS = 4\n",
    "QUEBRA_CABECA_NUMERICO = 5"
   ]
  },
  {
   "cell_type": "code",
   "execution_count": 4,
   "metadata": {},
   "outputs": [],
   "source": [
    "# Definição das variáveis\n",
    "ana = model.NewIntVar(1, 5, 'Ana')\n",
    "bruno = model.NewIntVar(1, 5, 'Bruno')\n",
    "carla = model.NewIntVar(1, 5, 'Carla')\n",
    "diego = model.NewIntVar(1, 5, 'Diego')\n",
    "erika = model.NewIntVar(1, 5, 'Erika')"
   ]
  },
  {
   "cell_type": "code",
   "execution_count": 5,
   "metadata": {},
   "outputs": [],
   "source": [
    "# Lista para garantir valores únicos\n",
    "participantes = [ana, bruno, carla, diego, erika]"
   ]
  },
  {
   "cell_type": "code",
   "execution_count": 6,
   "metadata": {},
   "outputs": [
    {
     "data": {
      "text/plain": [
       "<ortools.sat.python.cp_model.Constraint at 0x24be38d1250>"
      ]
     },
     "execution_count": 6,
     "metadata": {},
     "output_type": "execute_result"
    }
   ],
   "source": [
    "# Restrições para cada pista fornecida\n",
    "model.AddAllDifferent(participantes)  # Cada quebra-cabeça resolvido por uma pessoa diferente"
   ]
  },
  {
   "cell_type": "code",
   "execution_count": 7,
   "metadata": {},
   "outputs": [
    {
     "data": {
      "text/plain": [
       "<ortools.sat.python.cp_model.Constraint at 0x24bfa2cecc0>"
      ]
     },
     "execution_count": 7,
     "metadata": {},
     "output_type": "execute_result"
    }
   ],
   "source": [
    "# Pista 1: Ana não resolveu o cubo mágico nem o quebra-cabeça de palavras\n",
    "model.Add(ana != CUBO_MAGICO)\n",
    "model.Add(ana != QUEBRA_CABECA_PALAVRAS)"
   ]
  },
  {
   "cell_type": "code",
   "execution_count": 8,
   "metadata": {},
   "outputs": [
    {
     "data": {
      "text/plain": [
       "<ortools.sat.python.cp_model.Constraint at 0x24bfb2e0860>"
      ]
     },
     "execution_count": 8,
     "metadata": {},
     "output_type": "execute_result"
    }
   ],
   "source": [
    "# Pista 2: Bruno resolveu o quebra-cabeça numérico\n",
    "model.Add(bruno == QUEBRA_CABECA_NUMERICO)"
   ]
  },
  {
   "cell_type": "code",
   "execution_count": 9,
   "metadata": {},
   "outputs": [
    {
     "data": {
      "text/plain": [
       "<ortools.sat.python.cp_model.Constraint at 0x24be362ad50>"
      ]
     },
     "execution_count": 9,
     "metadata": {},
     "output_type": "execute_result"
    }
   ],
   "source": [
    "# Pista 3: Carla não resolveu o sudoku nem o quebra-cabeça de montar\n",
    "model.Add(carla != SUDOKU)\n",
    "model.Add(carla != QUEBRA_CABECA_MONTAR)"
   ]
  },
  {
   "cell_type": "code",
   "execution_count": 10,
   "metadata": {},
   "outputs": [
    {
     "data": {
      "text/plain": [
       "<ortools.sat.python.cp_model.Constraint at 0x24bfa357290>"
      ]
     },
     "execution_count": 10,
     "metadata": {},
     "output_type": "execute_result"
    }
   ],
   "source": [
    "# Pista 4: Diego não resolveu o quebra-cabeça de palavras\n",
    "model.Add(diego != QUEBRA_CABECA_PALAVRAS)"
   ]
  },
  {
   "cell_type": "code",
   "execution_count": 11,
   "metadata": {},
   "outputs": [
    {
     "data": {
      "text/plain": [
       "<ortools.sat.python.cp_model.Constraint at 0x24be388b200>"
      ]
     },
     "execution_count": 11,
     "metadata": {},
     "output_type": "execute_result"
    }
   ],
   "source": [
    "# Pista 5: Erika resolveu o cubo mágico\n",
    "model.Add(erika == CUBO_MAGICO)"
   ]
  },
  {
   "cell_type": "code",
   "execution_count": 12,
   "metadata": {},
   "outputs": [],
   "source": [
    "# Resolução do modelo\n",
    "solver = cp_model.CpSolver()\n",
    "status = solver.Solve(model)\n"
   ]
  },
  {
   "cell_type": "code",
   "execution_count": 13,
   "metadata": {},
   "outputs": [
    {
     "name": "stdout",
     "output_type": "stream",
     "text": [
      "Solução encontrada:\n",
      "Ana: 2\n",
      "Bruno: 5\n",
      "Carla: 4\n",
      "Diego: 3\n",
      "Erika: 1\n"
     ]
    }
   ],
   "source": [
    "# Exibição dos resultados\n",
    "if status == cp_model.FEASIBLE or status == cp_model.OPTIMAL:\n",
    "    print(\"Solução encontrada:\")\n",
    "    print(f\"Ana: {solver.Value(ana)}\")\n",
    "    print(f\"Bruno: {solver.Value(bruno)}\")\n",
    "    print(f\"Carla: {solver.Value(carla)}\")\n",
    "    print(f\"Diego: {solver.Value(diego)}\")\n",
    "    print(f\"Erika: {solver.Value(erika)}\")\n",
    "else:\n",
    "    print(\"Nenhuma solução encontrada.\")"
   ]
  }
 ],
 "metadata": {
  "kernelspec": {
   "display_name": "Python 3",
   "language": "python",
   "name": "python3"
  },
  "language_info": {
   "codemirror_mode": {
    "name": "ipython",
    "version": 3
   },
   "file_extension": ".py",
   "mimetype": "text/x-python",
   "name": "python",
   "nbconvert_exporter": "python",
   "pygments_lexer": "ipython3",
   "version": "3.12.8"
  }
 },
 "nbformat": 4,
 "nbformat_minor": 2
}
